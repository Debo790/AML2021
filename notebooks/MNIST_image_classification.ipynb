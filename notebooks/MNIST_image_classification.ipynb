Unstaged changes after reset:
D	adda/notebooks/image_classification.ipynb
M	notebooks/MNIST_image_classification.ipynb
